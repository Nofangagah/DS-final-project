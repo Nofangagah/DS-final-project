{
  "nbformat": 4,
  "nbformat_minor": 0,
  "metadata": {
    "colab": {
      "provenance": [],
      "authorship_tag": "ABX9TyNGsQr+hh1YBODjKrTMESot",
      "include_colab_link": true
    },
    "kernelspec": {
      "name": "python3",
      "display_name": "Python 3"
    },
    "language_info": {
      "name": "python"
    }
  },
  "cells": [
    {
      "cell_type": "markdown",
      "metadata": {
        "id": "view-in-github",
        "colab_type": "text"
      },
      "source": [
        "<a href=\"https://colab.research.google.com/github/Nofangagah/DS-final-project/blob/main/Final_project_Data_Science.ipynb\" target=\"_parent\"><img src=\"https://colab.research.google.com/assets/colab-badge.svg\" alt=\"Open In Colab\"/></a>"
      ]
    },
    {
      "cell_type": "markdown",
      "source": [
        "# **Data Science Practicum Final project**"
      ],
      "metadata": {
        "id": "AX1Kac1Q0CHQ"
      }
    },
    {
      "cell_type": "code",
      "source": [
        "import requests\n",
        "import os\n",
        "import json\n",
        "\n",
        "# Mount Google Drive\n",
        "from google.colab import drive\n",
        "drive.mount('/content/drive')\n",
        "\n",
        "# Buat folder untuk menyimpan dataset kanker kulit di Google Drive\n",
        "os.makedirs('/content/drive/MyDrive/kanker_kulit_datasets', exist_ok=True)\n",
        "\n",
        "# Endpoint API\n",
        "url = \"https://api.isic-archive.com/api/v2/images\"\n",
        "\n",
        "# Parameter API\n",
        "params = {\n",
        "    \"limit\": 1,             # Batasi jumlah gambar (sesuaikan dengan kebutuhan)\n",
        "    \"offset\": 0,            # Posisi awal\n",
        "    \"sort\": \"created\",      # Urutkan berdasarkan waktu\n",
        "    \"sortdir\": -1           # Urutkan dari yang terbaru\n",
        "}\n",
        "\n",
        "# Kirim permintaan ke API\n",
        "response = requests.get(url, params=params)\n",
        "\n",
        "# Debug respons API\n",
        "print(f\"Status code: {response.status_code}\")\n",
        "if response.status_code != 200:\n",
        "    print(\"Gagal mengambil data dari API.\")\n",
        "    exit()\n",
        "\n",
        "# Parsing JSON\n",
        "try:\n",
        "    data = response.json()  # Parsing JSON\n",
        "    images = data.get('results', [])  # Ambil key 'results' sebagai daftar gambar\n",
        "    if not images:\n",
        "        print(\"Data kosong. Tidak ada gambar yang ditemukan.\")\n",
        "        exit()\n",
        "    print(f\"Berhasil mendapatkan {len(images)} gambar.\")\n",
        "except json.JSONDecodeError:\n",
        "    print(\"Gagal parsing JSON. Periksa respons API.\")\n",
        "    exit()\n",
        "\n",
        "# Loop untuk mendownload gambar dan metadata\n",
        "for idx, image in enumerate(images):\n",
        "    try:\n",
        "        # Ambil informasi gambar dan metadata\n",
        "        image_id = image['isic_id']  # ID gambar unik\n",
        "        image_url = image['files']['full']['url']  # URL gambar\n",
        "        metadata = {\n",
        "            'isic_id': image_id,\n",
        "            'description': image.get('description', 'No description available'),\n",
        "            'license': image.get('copyright_license', 'No license available'),\n",
        "            'attribution': image.get('attribution', 'No attribution available'),\n",
        "            'acquisition': image.get('metadata', {}).get('acquisition', {}),\n",
        "            'clinical': image.get('metadata', {}).get('clinical', {})\n",
        "        }\n",
        "\n",
        "        # Buat folder berdasarkan ID gambar di Google Drive\n",
        "        image_folder = os.path.join('/content/drive/MyDrive/kanker_kulit_datasets', image_id)\n",
        "        os.makedirs(image_folder, exist_ok=True)\n",
        "\n",
        "        print(f\"Mengunduh {image_id} dari {image_url}...\")\n",
        "\n",
        "        # Unduh gambar dan simpan ke folder ID gambar di Google Drive\n",
        "        img_data = requests.get(image_url).content\n",
        "        with open(os.path.join(image_folder, f'{image_id}.jpg'), 'wb') as f:\n",
        "            f.write(img_data)\n",
        "\n",
        "        # Simpan metadata ke file JSON di folder ID gambar di Google Drive\n",
        "        with open(os.path.join(image_folder, f'{image_id}_metadata.json'), 'w') as metadata_file:\n",
        "            json.dump(metadata, metadata_file, indent=4)\n",
        "\n",
        "    except KeyError as e:\n",
        "        print(f\"Field tidak ditemukan pada item {idx}: {e}\")\n",
        "    except Exception as e:\n",
        "        print(f\"Error pada item {idx}: {e}\")\n"
      ],
      "metadata": {
        "colab": {
          "base_uri": "https://localhost:8080/"
        },
        "id": "He0W7yVz0TCQ",
        "outputId": "a07bcfe8-eb8c-455b-9bd3-b805b5e965d7"
      },
      "execution_count": 5,
      "outputs": [
        {
          "output_type": "stream",
          "name": "stdout",
          "text": [
            "Mounted at /content/drive\n",
            "Status code: 200\n",
            "Berhasil mendapatkan 1 gambar.\n",
            "Mengunduh ISIC_9536278 dari https://content.isic-archive.com/a70630df-48e5-4a69-b8fd-f1f9f5143caa/5d8fee0c-54ba-4686-808b-0ecc22d23b96.jpg?Expires=1733443200&Signature=PenGRqwT84ea2x4DBRp5lSTlCklReh2htjPoiRY1mvJT9tW3QXhDeqpjbLyLKUgbjBrApeIXQGsgJfGng2q5mQwot2kVlJOY7lKbC9~zB6PfhvvbP41cEadZAJQE8FLftNr00FbeDMVg81Z3w5Z2euy14GXd72S1Pwwtk52wLcku5ppE0jgOZkFuR2lBrId6DygK5BHuMhOrhch2bj-DnqiH9acToiwm3LVH4qVRtqMdLKcizGBziCJa~9-O5tql~RHjiWVkp2J5gb6v8lMs-zWEVUTF6X~BwGPXRzkD2Ft0HjZjE-wVUrYKnxwbAHegC6uiNw5GB-aPNJomaYG0Mg__&Key-Pair-Id=K3KFHCM130RXTL...\n"
          ]
        }
      ]
    }
  ]
}